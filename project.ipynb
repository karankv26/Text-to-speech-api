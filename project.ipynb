{
 "cells": [
  {
   "cell_type": "code",
   "execution_count": 1,
   "metadata": {},
   "outputs": [
    {
     "name": "stdout",
     "output_type": "stream",
     "text": [
      "Requirement already satisfied: pyPDF2 in c:\\users\\welcome\\anaconda3\\lib\\site-packages (1.26.0)\n",
      "Note: you may need to restart the kernel to use updated packages.\n"
     ]
    }
   ],
   "source": [
    "pip install pyPDF2"
   ]
  },
  {
   "cell_type": "code",
   "execution_count": 2,
   "metadata": {},
   "outputs": [
    {
     "name": "stdout",
     "output_type": "stream",
     "text": [
      "Requirement already satisfied: gtts in c:\\users\\welcome\\anaconda3\\lib\\site-packages (2.2.2)\n",
      "Requirement already satisfied: requests in c:\\users\\welcome\\anaconda3\\lib\\site-packages (from gtts) (2.22.0)\n",
      "Requirement already satisfied: six in c:\\users\\welcome\\anaconda3\\lib\\site-packages (from gtts) (1.14.0)\n",
      "Requirement already satisfied: click in c:\\users\\welcome\\anaconda3\\lib\\site-packages (from gtts) (7.0)\n",
      "Requirement already satisfied: idna<2.9,>=2.5 in c:\\users\\welcome\\anaconda3\\lib\\site-packages (from requests->gtts) (2.8)\n",
      "Requirement already satisfied: urllib3!=1.25.0,!=1.25.1,<1.26,>=1.21.1 in c:\\users\\welcome\\anaconda3\\lib\\site-packages (from requests->gtts) (1.25.8)\n",
      "Requirement already satisfied: certifi>=2017.4.17 in c:\\users\\welcome\\anaconda3\\lib\\site-packages (from requests->gtts) (2019.11.28)\n",
      "Requirement already satisfied: chardet<3.1.0,>=3.0.2 in c:\\users\\welcome\\anaconda3\\lib\\site-packages (from requests->gtts) (3.0.4)\n",
      "Note: you may need to restart the kernel to use updated packages.\n"
     ]
    }
   ],
   "source": [
    "pip install gtts"
   ]
  },
  {
   "cell_type": "code",
   "execution_count": 3,
   "metadata": {},
   "outputs": [],
   "source": [
    "import PyPDF2\n",
    "import os\n",
    "from gtts import gTTS"
   ]
  },
  {
   "cell_type": "code",
   "execution_count": 7,
   "metadata": {},
   "outputs": [
    {
     "data": {
      "text/plain": [
       "0"
      ]
     },
     "execution_count": 7,
     "metadata": {},
     "output_type": "execute_result"
    }
   ],
   "source": [
    "path = open('Speech (2).pdf', 'rb')\n",
    "\n",
    "\n",
    "#Now we haveto sysc through the pdf...\n",
    "#we are calling the pdf file to the pdfreader for extracting the content\n",
    "pdfReader = PyPDF2.PdfFileReader(path)\n",
    "\n",
    "#we are navigating throgh the page \n",
    "from_page = pdfReader.getPage(0)\n",
    "\n",
    "#extracting the text from the pdf ....\n",
    "text = from_page.extractText()\n",
    "\n",
    "#we are sending the data to the google api and from there it is doing the mp3 converting thing for us\n",
    "speech = gTTS(text = text, lang = 'en', slow = True) \n",
    "#after that with the help of speech we are saving it in the local folder\n",
    "speech.save('text.mp3')\n",
    "#we are callin os to start our mp3 file \n",
    "os.system(\"start text.mp3\")"
   ]
  },
  {
   "cell_type": "code",
   "execution_count": null,
   "metadata": {},
   "outputs": [],
   "source": []
  }
 ],
 "metadata": {
  "kernelspec": {
   "display_name": "Python 3",
   "language": "python",
   "name": "python3"
  },
  "language_info": {
   "codemirror_mode": {
    "name": "ipython",
    "version": 3
   },
   "file_extension": ".py",
   "mimetype": "text/x-python",
   "name": "python",
   "nbconvert_exporter": "python",
   "pygments_lexer": "ipython3",
   "version": "3.7.6"
  }
 },
 "nbformat": 4,
 "nbformat_minor": 4
}
